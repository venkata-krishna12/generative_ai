{
  "nbformat": 4,
  "nbformat_minor": 0,
  "metadata": {
    "colab": {
      "provenance": []
    },
    "kernelspec": {
      "name": "python3",
      "display_name": "Python 3"
    },
    "language_info": {
      "name": "python"
    }
  },
  "cells": [
    {
      "cell_type": "code",
      "execution_count": 1,
      "metadata": {
        "id": "uic10XiIOVyL"
      },
      "outputs": [],
      "source": [
        "#libraries"
      ]
    },
    {
      "cell_type": "code",
      "source": [
        "import tensorflow as tf\n",
        "from tensorflow.keras.models import Sequential\n",
        "from tensorflow.keras.layers import Dense, Flatten, Dropout\n",
        "from tensorflow.keras.utils import to_categorical\n",
        "from tensorflow.keras.datasets import mnist, cifar10, fashion_mnist\n",
        "from tensorflow.keras.optimizers import Adam\n",
        "from tensorflow.keras.preprocessing.text import Tokenizer\n",
        "from tensorflow.keras.preprocessing.sequence import pad_sequences\n",
        "from sklearn.datasets import load_iris\n",
        "from sklearn.model_selection import train_test_split\n",
        "from sklearn.preprocessing import LabelBinarizer\n",
        "from sklearn.metrics import classification_report, confusion_matrix\n",
        "import numpy as np\n",
        "import matplotlib.pyplot as plt"
      ],
      "metadata": {
        "id": "mmeN56YjOYyM"
      },
      "execution_count": 2,
      "outputs": []
    },
    {
      "cell_type": "markdown",
      "source": [
        "2.Define the Neural Network Architecture"
      ],
      "metadata": {
        "id": "CIv1_PRiOi3C"
      }
    },
    {
      "cell_type": "code",
      "source": [
        "def build_model(input_shape, num_classes):\n",
        "    model = Sequential([\n",
        "        Flatten(input_shape=input_shape),        # Flatten the input\n",
        "        Dense(128, activation='relu'),           # First hidden layer\n",
        "        Dropout(0.5),                            # Dropout for regularization\n",
        "        Dense(64, activation='relu'),            # Second hidden layer\n",
        "        Dense(num_classes, activation='softmax') # Output layer\n",
        "    ])\n",
        "    model.compile(optimizer=Adam(learning_rate=0.001),\n",
        "                  loss='categorical_crossentropy',\n",
        "                  metrics=['accuracy'])\n",
        "    return model\n"
      ],
      "metadata": {
        "id": "2vT54u29OmMd"
      },
      "execution_count": 3,
      "outputs": []
    },
    {
      "cell_type": "markdown",
      "source": [
        "3. Dataset Preparation and Model Training"
      ],
      "metadata": {
        "id": "CB_bmqCjOwxS"
      }
    },
    {
      "cell_type": "code",
      "source": [
        "# Load and prepare the MNIST dataset\n",
        "(x_train, y_train), (x_test, y_test) = mnist.load_data()\n",
        "x_train, x_test = x_train / 255.0, x_test / 255.0  # Normalize pixel values\n",
        "y_train = to_categorical(y_train, 10)\n",
        "y_test = to_categorical(y_test, 10)\n",
        "\n",
        "# Build and train the model\n",
        "model = build_model((28, 28), 10)\n",
        "history = model.fit(x_train, y_train, epochs=15, batch_size=30, validation_split=0.2)\n",
        "model.evaluate(x_test, y_test)\n"
      ],
      "metadata": {
        "colab": {
          "base_uri": "https://localhost:8080/"
        },
        "id": "iJ7wLi6EO2Ld",
        "outputId": "2886f78a-48a1-4503-bb63-03f503642998"
      },
      "execution_count": 9,
      "outputs": [
        {
          "output_type": "stream",
          "name": "stdout",
          "text": [
            "Epoch 1/15\n",
            "\u001b[1m1600/1600\u001b[0m \u001b[32m━━━━━━━━━━━━━━━━━━━━\u001b[0m\u001b[37m\u001b[0m \u001b[1m8s\u001b[0m 4ms/step - accuracy: 0.7886 - loss: 0.6865 - val_accuracy: 0.9481 - val_loss: 0.1762\n",
            "Epoch 2/15\n",
            "\u001b[1m1600/1600\u001b[0m \u001b[32m━━━━━━━━━━━━━━━━━━━━\u001b[0m\u001b[37m\u001b[0m \u001b[1m11s\u001b[0m 5ms/step - accuracy: 0.9203 - loss: 0.2548 - val_accuracy: 0.9614 - val_loss: 0.1316\n",
            "Epoch 3/15\n",
            "\u001b[1m1600/1600\u001b[0m \u001b[32m━━━━━━━━━━━━━━━━━━━━\u001b[0m\u001b[37m\u001b[0m \u001b[1m11s\u001b[0m 5ms/step - accuracy: 0.9372 - loss: 0.2053 - val_accuracy: 0.9637 - val_loss: 0.1189\n",
            "Epoch 4/15\n",
            "\u001b[1m1600/1600\u001b[0m \u001b[32m━━━━━━━━━━━━━━━━━━━━\u001b[0m\u001b[37m\u001b[0m \u001b[1m6s\u001b[0m 4ms/step - accuracy: 0.9429 - loss: 0.1813 - val_accuracy: 0.9663 - val_loss: 0.1111\n",
            "Epoch 5/15\n",
            "\u001b[1m1600/1600\u001b[0m \u001b[32m━━━━━━━━━━━━━━━━━━━━\u001b[0m\u001b[37m\u001b[0m \u001b[1m11s\u001b[0m 4ms/step - accuracy: 0.9475 - loss: 0.1679 - val_accuracy: 0.9686 - val_loss: 0.1056\n",
            "Epoch 6/15\n",
            "\u001b[1m1600/1600\u001b[0m \u001b[32m━━━━━━━━━━━━━━━━━━━━\u001b[0m\u001b[37m\u001b[0m \u001b[1m8s\u001b[0m 5ms/step - accuracy: 0.9532 - loss: 0.1547 - val_accuracy: 0.9694 - val_loss: 0.0991\n",
            "Epoch 7/15\n",
            "\u001b[1m1600/1600\u001b[0m \u001b[32m━━━━━━━━━━━━━━━━━━━━\u001b[0m\u001b[37m\u001b[0m \u001b[1m7s\u001b[0m 4ms/step - accuracy: 0.9532 - loss: 0.1516 - val_accuracy: 0.9733 - val_loss: 0.0915\n",
            "Epoch 8/15\n",
            "\u001b[1m1600/1600\u001b[0m \u001b[32m━━━━━━━━━━━━━━━━━━━━\u001b[0m\u001b[37m\u001b[0m \u001b[1m9s\u001b[0m 6ms/step - accuracy: 0.9558 - loss: 0.1398 - val_accuracy: 0.9726 - val_loss: 0.0973\n",
            "Epoch 9/15\n",
            "\u001b[1m1600/1600\u001b[0m \u001b[32m━━━━━━━━━━━━━━━━━━━━\u001b[0m\u001b[37m\u001b[0m \u001b[1m8s\u001b[0m 4ms/step - accuracy: 0.9575 - loss: 0.1370 - val_accuracy: 0.9734 - val_loss: 0.0919\n",
            "Epoch 10/15\n",
            "\u001b[1m1600/1600\u001b[0m \u001b[32m━━━━━━━━━━━━━━━━━━━━\u001b[0m\u001b[37m\u001b[0m \u001b[1m8s\u001b[0m 5ms/step - accuracy: 0.9590 - loss: 0.1293 - val_accuracy: 0.9722 - val_loss: 0.0951\n",
            "Epoch 11/15\n",
            "\u001b[1m1600/1600\u001b[0m \u001b[32m━━━━━━━━━━━━━━━━━━━━\u001b[0m\u001b[37m\u001b[0m \u001b[1m7s\u001b[0m 5ms/step - accuracy: 0.9602 - loss: 0.1244 - val_accuracy: 0.9747 - val_loss: 0.0879\n",
            "Epoch 12/15\n",
            "\u001b[1m1600/1600\u001b[0m \u001b[32m━━━━━━━━━━━━━━━━━━━━\u001b[0m\u001b[37m\u001b[0m \u001b[1m7s\u001b[0m 5ms/step - accuracy: 0.9648 - loss: 0.1095 - val_accuracy: 0.9767 - val_loss: 0.0848\n",
            "Epoch 13/15\n",
            "\u001b[1m1600/1600\u001b[0m \u001b[32m━━━━━━━━━━━━━━━━━━━━\u001b[0m\u001b[37m\u001b[0m \u001b[1m11s\u001b[0m 5ms/step - accuracy: 0.9667 - loss: 0.1071 - val_accuracy: 0.9731 - val_loss: 0.0951\n",
            "Epoch 14/15\n",
            "\u001b[1m1600/1600\u001b[0m \u001b[32m━━━━━━━━━━━━━━━━━━━━\u001b[0m\u001b[37m\u001b[0m \u001b[1m10s\u001b[0m 5ms/step - accuracy: 0.9646 - loss: 0.1086 - val_accuracy: 0.9740 - val_loss: 0.0834\n",
            "Epoch 15/15\n",
            "\u001b[1m1600/1600\u001b[0m \u001b[32m━━━━━━━━━━━━━━━━━━━━\u001b[0m\u001b[37m\u001b[0m \u001b[1m9s\u001b[0m 4ms/step - accuracy: 0.9640 - loss: 0.1073 - val_accuracy: 0.9740 - val_loss: 0.0881\n",
            "\u001b[1m313/313\u001b[0m \u001b[32m━━━━━━━━━━━━━━━━━━━━\u001b[0m\u001b[37m\u001b[0m \u001b[1m1s\u001b[0m 2ms/step - accuracy: 0.9697 - loss: 0.1038\n"
          ]
        },
        {
          "output_type": "execute_result",
          "data": {
            "text/plain": [
              "[0.08677925914525986, 0.9750999808311462]"
            ]
          },
          "metadata": {},
          "execution_count": 9
        }
      ]
    },
    {
      "cell_type": "markdown",
      "source": [
        "b. CIFAR-10: Object Recognition (10 classes)"
      ],
      "metadata": {
        "id": "LXTB0dIiPQY3"
      }
    },
    {
      "cell_type": "code",
      "source": [
        "# Load and prepare the CIFAR-10 dataset\n",
        "(x_train, y_train), (x_test, y_test) = cifar10.load_data()\n",
        "x_train, x_test = x_train / 255.0, x_test / 255.0  # Normalize pixel values\n",
        "y_train = to_categorical(y_train, 10)\n",
        "y_test = to_categorical(y_test, 10)\n",
        "\n",
        "# Build and train the model\n",
        "model = build_model((32, 32, 3), 10)\n",
        "history = model.fit(x_train, y_train, epochs=15, batch_size=30, validation_split=0.2)\n",
        "model.evaluate(x_test, y_test)\n"
      ],
      "metadata": {
        "colab": {
          "base_uri": "https://localhost:8080/"
        },
        "id": "kslrdDaFO4G1",
        "outputId": "a8274f1f-0b34-41cf-bd5e-dcefb517b74e"
      },
      "execution_count": 10,
      "outputs": [
        {
          "output_type": "stream",
          "name": "stdout",
          "text": [
            "Epoch 1/15\n",
            "\u001b[1m1334/1334\u001b[0m \u001b[32m━━━━━━━━━━━━━━━━━━━━\u001b[0m\u001b[37m\u001b[0m \u001b[1m13s\u001b[0m 9ms/step - accuracy: 0.1577 - loss: 2.2144 - val_accuracy: 0.2397 - val_loss: 2.0330\n",
            "Epoch 2/15\n",
            "\u001b[1m1334/1334\u001b[0m \u001b[32m━━━━━━━━━━━━━━━━━━━━\u001b[0m\u001b[37m\u001b[0m \u001b[1m10s\u001b[0m 7ms/step - accuracy: 0.1850 - loss: 2.1143 - val_accuracy: 0.2565 - val_loss: 2.0504\n",
            "Epoch 3/15\n",
            "\u001b[1m1334/1334\u001b[0m \u001b[32m━━━━━━━━━━━━━━━━━━━━\u001b[0m\u001b[37m\u001b[0m \u001b[1m11s\u001b[0m 9ms/step - accuracy: 0.1915 - loss: 2.0899 - val_accuracy: 0.2599 - val_loss: 2.0313\n",
            "Epoch 4/15\n",
            "\u001b[1m1334/1334\u001b[0m \u001b[32m━━━━━━━━━━━━━━━━━━━━\u001b[0m\u001b[37m\u001b[0m \u001b[1m12s\u001b[0m 9ms/step - accuracy: 0.2101 - loss: 2.0684 - val_accuracy: 0.2648 - val_loss: 2.0030\n",
            "Epoch 5/15\n",
            "\u001b[1m1334/1334\u001b[0m \u001b[32m━━━━━━━━━━━━━━━━━━━━\u001b[0m\u001b[37m\u001b[0m \u001b[1m11s\u001b[0m 9ms/step - accuracy: 0.2077 - loss: 2.0679 - val_accuracy: 0.2394 - val_loss: 2.0547\n",
            "Epoch 6/15\n",
            "\u001b[1m1334/1334\u001b[0m \u001b[32m━━━━━━━━━━━━━━━━━━━━\u001b[0m\u001b[37m\u001b[0m \u001b[1m10s\u001b[0m 8ms/step - accuracy: 0.2150 - loss: 2.0554 - val_accuracy: 0.2547 - val_loss: 2.0601\n",
            "Epoch 7/15\n",
            "\u001b[1m1334/1334\u001b[0m \u001b[32m━━━━━━━━━━━━━━━━━━━━\u001b[0m\u001b[37m\u001b[0m \u001b[1m22s\u001b[0m 9ms/step - accuracy: 0.2114 - loss: 2.0671 - val_accuracy: 0.2374 - val_loss: 2.0289\n",
            "Epoch 8/15\n",
            "\u001b[1m1334/1334\u001b[0m \u001b[32m━━━━━━━━━━━━━━━━━━━━\u001b[0m\u001b[37m\u001b[0m \u001b[1m11s\u001b[0m 8ms/step - accuracy: 0.2172 - loss: 2.0417 - val_accuracy: 0.2554 - val_loss: 2.0647\n",
            "Epoch 9/15\n",
            "\u001b[1m1334/1334\u001b[0m \u001b[32m━━━━━━━━━━━━━━━━━━━━\u001b[0m\u001b[37m\u001b[0m \u001b[1m20s\u001b[0m 8ms/step - accuracy: 0.2227 - loss: 2.0390 - val_accuracy: 0.2475 - val_loss: 2.0136\n",
            "Epoch 10/15\n",
            "\u001b[1m1334/1334\u001b[0m \u001b[32m━━━━━━━━━━━━━━━━━━━━\u001b[0m\u001b[37m\u001b[0m \u001b[1m21s\u001b[0m 9ms/step - accuracy: 0.2130 - loss: 2.0674 - val_accuracy: 0.2510 - val_loss: 2.0336\n",
            "Epoch 11/15\n",
            "\u001b[1m1334/1334\u001b[0m \u001b[32m━━━━━━━━━━━━━━━━━━━━\u001b[0m\u001b[37m\u001b[0m \u001b[1m20s\u001b[0m 8ms/step - accuracy: 0.2094 - loss: 2.0830 - val_accuracy: 0.2701 - val_loss: 1.9903\n",
            "Epoch 12/15\n",
            "\u001b[1m1334/1334\u001b[0m \u001b[32m━━━━━━━━━━━━━━━━━━━━\u001b[0m\u001b[37m\u001b[0m \u001b[1m11s\u001b[0m 8ms/step - accuracy: 0.2057 - loss: 2.0801 - val_accuracy: 0.2711 - val_loss: 2.0094\n",
            "Epoch 13/15\n",
            "\u001b[1m1334/1334\u001b[0m \u001b[32m━━━━━━━━━━━━━━━━━━━━\u001b[0m\u001b[37m\u001b[0m \u001b[1m10s\u001b[0m 8ms/step - accuracy: 0.2116 - loss: 2.0829 - val_accuracy: 0.2492 - val_loss: 2.0355\n",
            "Epoch 14/15\n",
            "\u001b[1m1334/1334\u001b[0m \u001b[32m━━━━━━━━━━━━━━━━━━━━\u001b[0m\u001b[37m\u001b[0m \u001b[1m12s\u001b[0m 9ms/step - accuracy: 0.2058 - loss: 2.0843 - val_accuracy: 0.2795 - val_loss: 1.9976\n",
            "Epoch 15/15\n",
            "\u001b[1m1334/1334\u001b[0m \u001b[32m━━━━━━━━━━━━━━━━━━━━\u001b[0m\u001b[37m\u001b[0m \u001b[1m20s\u001b[0m 8ms/step - accuracy: 0.2066 - loss: 2.0825 - val_accuracy: 0.2408 - val_loss: 2.0355\n",
            "\u001b[1m313/313\u001b[0m \u001b[32m━━━━━━━━━━━━━━━━━━━━\u001b[0m\u001b[37m\u001b[0m \u001b[1m1s\u001b[0m 3ms/step - accuracy: 0.2501 - loss: 2.0350\n"
          ]
        },
        {
          "output_type": "execute_result",
          "data": {
            "text/plain": [
              "[2.031909465789795, 0.24420000612735748]"
            ]
          },
          "metadata": {},
          "execution_count": 10
        }
      ]
    },
    {
      "cell_type": "markdown",
      "source": [
        "c. Iris: Flower Classification (3 classes)\n"
      ],
      "metadata": {
        "id": "1XoGW7yHPWBc"
      }
    },
    {
      "cell_type": "code",
      "source": [
        "# Load and prepare the Iris dataset\n",
        "iris = load_iris()\n",
        "x_train, x_test, y_train, y_test = train_test_split(iris.data, iris.target, test_size=0.2, random_state=42)\n",
        "y_train = to_categorical(y_train, 3)\n",
        "y_test = to_categorical(y_test, 3)\n",
        "\n",
        "# Build and train the model\n",
        "model = build_model((4,), 3)  # Input shape is 4 for the Iris dataset\n",
        "history = model.fit(x_train, y_train, epochs=80, batch_size=16, validation_split=0.2)\n",
        "model.evaluate(x_test, y_test)\n"
      ],
      "metadata": {
        "colab": {
          "base_uri": "https://localhost:8080/"
        },
        "id": "b9LyM2XbPTEv",
        "outputId": "5d8f541b-f854-478f-fa4f-374d6c5bea26"
      },
      "execution_count": 11,
      "outputs": [
        {
          "output_type": "stream",
          "name": "stdout",
          "text": [
            "Epoch 1/80\n",
            "\u001b[1m6/6\u001b[0m \u001b[32m━━━━━━━━━━━━━━━━━━━━\u001b[0m\u001b[37m\u001b[0m \u001b[1m3s\u001b[0m 133ms/step - accuracy: 0.4260 - loss: 1.2607 - val_accuracy: 0.5000 - val_loss: 0.9945\n",
            "Epoch 2/80\n",
            "\u001b[1m6/6\u001b[0m \u001b[32m━━━━━━━━━━━━━━━━━━━━\u001b[0m\u001b[37m\u001b[0m \u001b[1m1s\u001b[0m 28ms/step - accuracy: 0.3823 - loss: 1.1896 - val_accuracy: 0.5000 - val_loss: 0.8705\n",
            "Epoch 3/80\n",
            "\u001b[1m6/6\u001b[0m \u001b[32m━━━━━━━━━━━━━━━━━━━━\u001b[0m\u001b[37m\u001b[0m \u001b[1m0s\u001b[0m 22ms/step - accuracy: 0.6821 - loss: 0.8893 - val_accuracy: 0.7083 - val_loss: 0.7766\n",
            "Epoch 4/80\n",
            "\u001b[1m6/6\u001b[0m \u001b[32m━━━━━━━━━━━━━━━━━━━━\u001b[0m\u001b[37m\u001b[0m \u001b[1m0s\u001b[0m 18ms/step - accuracy: 0.5488 - loss: 0.8747 - val_accuracy: 0.7083 - val_loss: 0.6934\n",
            "Epoch 5/80\n",
            "\u001b[1m6/6\u001b[0m \u001b[32m━━━━━━━━━━━━━━━━━━━━\u001b[0m\u001b[37m\u001b[0m \u001b[1m0s\u001b[0m 34ms/step - accuracy: 0.6439 - loss: 0.7853 - val_accuracy: 0.7083 - val_loss: 0.6307\n",
            "Epoch 6/80\n",
            "\u001b[1m6/6\u001b[0m \u001b[32m━━━━━━━━━━━━━━━━━━━━\u001b[0m\u001b[37m\u001b[0m \u001b[1m1s\u001b[0m 41ms/step - accuracy: 0.4832 - loss: 0.8249 - val_accuracy: 1.0000 - val_loss: 0.5953\n",
            "Epoch 7/80\n",
            "\u001b[1m6/6\u001b[0m \u001b[32m━━━━━━━━━━━━━━━━━━━━\u001b[0m\u001b[37m\u001b[0m \u001b[1m1s\u001b[0m 29ms/step - accuracy: 0.7103 - loss: 0.6748 - val_accuracy: 1.0000 - val_loss: 0.5553\n",
            "Epoch 8/80\n",
            "\u001b[1m6/6\u001b[0m \u001b[32m━━━━━━━━━━━━━━━━━━━━\u001b[0m\u001b[37m\u001b[0m \u001b[1m0s\u001b[0m 29ms/step - accuracy: 0.6641 - loss: 0.7098 - val_accuracy: 1.0000 - val_loss: 0.5347\n",
            "Epoch 9/80\n",
            "\u001b[1m6/6\u001b[0m \u001b[32m━━━━━━━━━━━━━━━━━━━━\u001b[0m\u001b[37m\u001b[0m \u001b[1m0s\u001b[0m 36ms/step - accuracy: 0.6610 - loss: 0.6940 - val_accuracy: 0.7500 - val_loss: 0.5345\n",
            "Epoch 10/80\n",
            "\u001b[1m6/6\u001b[0m \u001b[32m━━━━━━━━━━━━━━━━━━━━\u001b[0m\u001b[37m\u001b[0m \u001b[1m0s\u001b[0m 22ms/step - accuracy: 0.6626 - loss: 0.6574 - val_accuracy: 1.0000 - val_loss: 0.4657\n",
            "Epoch 11/80\n",
            "\u001b[1m6/6\u001b[0m \u001b[32m━━━━━━━━━━━━━━━━━━━━\u001b[0m\u001b[37m\u001b[0m \u001b[1m0s\u001b[0m 26ms/step - accuracy: 0.6696 - loss: 0.6193 - val_accuracy: 1.0000 - val_loss: 0.4458\n",
            "Epoch 12/80\n",
            "\u001b[1m6/6\u001b[0m \u001b[32m━━━━━━━━━━━━━━━━━━━━\u001b[0m\u001b[37m\u001b[0m \u001b[1m0s\u001b[0m 18ms/step - accuracy: 0.7824 - loss: 0.4866 - val_accuracy: 0.9583 - val_loss: 0.4492\n",
            "Epoch 13/80\n",
            "\u001b[1m6/6\u001b[0m \u001b[32m━━━━━━━━━━━━━━━━━━━━\u001b[0m\u001b[37m\u001b[0m \u001b[1m0s\u001b[0m 18ms/step - accuracy: 0.7563 - loss: 0.4988 - val_accuracy: 0.9167 - val_loss: 0.4578\n",
            "Epoch 14/80\n",
            "\u001b[1m6/6\u001b[0m \u001b[32m━━━━━━━━━━━━━━━━━━━━\u001b[0m\u001b[37m\u001b[0m \u001b[1m0s\u001b[0m 21ms/step - accuracy: 0.7607 - loss: 0.4512 - val_accuracy: 0.9583 - val_loss: 0.4291\n",
            "Epoch 15/80\n",
            "\u001b[1m6/6\u001b[0m \u001b[32m━━━━━━━━━━━━━━━━━━━━\u001b[0m\u001b[37m\u001b[0m \u001b[1m0s\u001b[0m 28ms/step - accuracy: 0.7271 - loss: 0.5240 - val_accuracy: 0.9583 - val_loss: 0.4256\n",
            "Epoch 16/80\n",
            "\u001b[1m6/6\u001b[0m \u001b[32m━━━━━━━━━━━━━━━━━━━━\u001b[0m\u001b[37m\u001b[0m \u001b[1m0s\u001b[0m 8ms/step - accuracy: 0.7317 - loss: 0.4468 - val_accuracy: 1.0000 - val_loss: 0.3736\n",
            "Epoch 17/80\n",
            "\u001b[1m6/6\u001b[0m \u001b[32m━━━━━━━━━━━━━━━━━━━━\u001b[0m\u001b[37m\u001b[0m \u001b[1m0s\u001b[0m 8ms/step - accuracy: 0.8525 - loss: 0.4365 - val_accuracy: 0.9583 - val_loss: 0.3879\n",
            "Epoch 18/80\n",
            "\u001b[1m6/6\u001b[0m \u001b[32m━━━━━━━━━━━━━━━━━━━━\u001b[0m\u001b[37m\u001b[0m \u001b[1m0s\u001b[0m 8ms/step - accuracy: 0.8185 - loss: 0.4077 - val_accuracy: 0.9167 - val_loss: 0.4116\n",
            "Epoch 19/80\n",
            "\u001b[1m6/6\u001b[0m \u001b[32m━━━━━━━━━━━━━━━━━━━━\u001b[0m\u001b[37m\u001b[0m \u001b[1m0s\u001b[0m 8ms/step - accuracy: 0.7588 - loss: 0.4338 - val_accuracy: 1.0000 - val_loss: 0.3372\n",
            "Epoch 20/80\n",
            "\u001b[1m6/6\u001b[0m \u001b[32m━━━━━━━━━━━━━━━━━━━━\u001b[0m\u001b[37m\u001b[0m \u001b[1m0s\u001b[0m 7ms/step - accuracy: 0.6722 - loss: 0.4808 - val_accuracy: 1.0000 - val_loss: 0.3042\n",
            "Epoch 21/80\n",
            "\u001b[1m6/6\u001b[0m \u001b[32m━━━━━━━━━━━━━━━━━━━━\u001b[0m\u001b[37m\u001b[0m \u001b[1m0s\u001b[0m 12ms/step - accuracy: 0.8814 - loss: 0.3675 - val_accuracy: 0.9583 - val_loss: 0.3345\n",
            "Epoch 22/80\n",
            "\u001b[1m6/6\u001b[0m \u001b[32m━━━━━━━━━━━━━━━━━━━━\u001b[0m\u001b[37m\u001b[0m \u001b[1m0s\u001b[0m 10ms/step - accuracy: 0.8760 - loss: 0.3616 - val_accuracy: 0.9583 - val_loss: 0.3567\n",
            "Epoch 23/80\n",
            "\u001b[1m6/6\u001b[0m \u001b[32m━━━━━━━━━━━━━━━━━━━━\u001b[0m\u001b[37m\u001b[0m \u001b[1m0s\u001b[0m 11ms/step - accuracy: 0.8177 - loss: 0.3383 - val_accuracy: 1.0000 - val_loss: 0.2889\n",
            "Epoch 24/80\n",
            "\u001b[1m6/6\u001b[0m \u001b[32m━━━━━━━━━━━━━━━━━━━━\u001b[0m\u001b[37m\u001b[0m \u001b[1m0s\u001b[0m 8ms/step - accuracy: 0.8201 - loss: 0.3667 - val_accuracy: 1.0000 - val_loss: 0.2656\n",
            "Epoch 25/80\n",
            "\u001b[1m6/6\u001b[0m \u001b[32m━━━━━━━━━━━━━━━━━━━━\u001b[0m\u001b[37m\u001b[0m \u001b[1m0s\u001b[0m 11ms/step - accuracy: 0.8513 - loss: 0.3682 - val_accuracy: 0.9583 - val_loss: 0.3028\n",
            "Epoch 26/80\n",
            "\u001b[1m6/6\u001b[0m \u001b[32m━━━━━━━━━━━━━━━━━━━━\u001b[0m\u001b[37m\u001b[0m \u001b[1m0s\u001b[0m 9ms/step - accuracy: 0.8393 - loss: 0.3779 - val_accuracy: 0.9583 - val_loss: 0.3087\n",
            "Epoch 27/80\n",
            "\u001b[1m6/6\u001b[0m \u001b[32m━━━━━━━━━━━━━━━━━━━━\u001b[0m\u001b[37m\u001b[0m \u001b[1m0s\u001b[0m 8ms/step - accuracy: 0.8826 - loss: 0.3199 - val_accuracy: 0.9583 - val_loss: 0.2783\n",
            "Epoch 28/80\n",
            "\u001b[1m6/6\u001b[0m \u001b[32m━━━━━━━━━━━━━━━━━━━━\u001b[0m\u001b[37m\u001b[0m \u001b[1m0s\u001b[0m 12ms/step - accuracy: 0.7862 - loss: 0.3809 - val_accuracy: 1.0000 - val_loss: 0.2402\n",
            "Epoch 29/80\n",
            "\u001b[1m6/6\u001b[0m \u001b[32m━━━━━━━━━━━━━━━━━━━━\u001b[0m\u001b[37m\u001b[0m \u001b[1m0s\u001b[0m 10ms/step - accuracy: 0.8799 - loss: 0.3159 - val_accuracy: 1.0000 - val_loss: 0.2176\n",
            "Epoch 30/80\n",
            "\u001b[1m6/6\u001b[0m \u001b[32m━━━━━━━━━━━━━━━━━━━━\u001b[0m\u001b[37m\u001b[0m \u001b[1m0s\u001b[0m 13ms/step - accuracy: 0.8820 - loss: 0.3221 - val_accuracy: 0.9583 - val_loss: 0.2521\n",
            "Epoch 31/80\n",
            "\u001b[1m6/6\u001b[0m \u001b[32m━━━━━━━━━━━━━━━━━━━━\u001b[0m\u001b[37m\u001b[0m \u001b[1m0s\u001b[0m 9ms/step - accuracy: 0.9158 - loss: 0.2922 - val_accuracy: 0.9583 - val_loss: 0.2535\n",
            "Epoch 32/80\n",
            "\u001b[1m6/6\u001b[0m \u001b[32m━━━━━━━━━━━━━━━━━━━━\u001b[0m\u001b[37m\u001b[0m \u001b[1m0s\u001b[0m 8ms/step - accuracy: 0.9103 - loss: 0.2721 - val_accuracy: 1.0000 - val_loss: 0.1970\n",
            "Epoch 33/80\n",
            "\u001b[1m6/6\u001b[0m \u001b[32m━━━━━━━━━━━━━━━━━━━━\u001b[0m\u001b[37m\u001b[0m \u001b[1m0s\u001b[0m 12ms/step - accuracy: 0.9192 - loss: 0.2573 - val_accuracy: 1.0000 - val_loss: 0.1719\n",
            "Epoch 34/80\n",
            "\u001b[1m6/6\u001b[0m \u001b[32m━━━━━━━━━━━━━━━━━━━━\u001b[0m\u001b[37m\u001b[0m \u001b[1m0s\u001b[0m 12ms/step - accuracy: 0.8679 - loss: 0.3184 - val_accuracy: 0.9583 - val_loss: 0.1933\n",
            "Epoch 35/80\n",
            "\u001b[1m6/6\u001b[0m \u001b[32m━━━━━━━━━━━━━━━━━━━━\u001b[0m\u001b[37m\u001b[0m \u001b[1m0s\u001b[0m 9ms/step - accuracy: 0.8860 - loss: 0.2562 - val_accuracy: 0.9583 - val_loss: 0.2143\n",
            "Epoch 36/80\n",
            "\u001b[1m6/6\u001b[0m \u001b[32m━━━━━━━━━━━━━━━━━━━━\u001b[0m\u001b[37m\u001b[0m \u001b[1m0s\u001b[0m 8ms/step - accuracy: 0.9476 - loss: 0.2576 - val_accuracy: 1.0000 - val_loss: 0.1529\n",
            "Epoch 37/80\n",
            "\u001b[1m6/6\u001b[0m \u001b[32m━━━━━━━━━━━━━━━━━━━━\u001b[0m\u001b[37m\u001b[0m \u001b[1m0s\u001b[0m 11ms/step - accuracy: 0.9315 - loss: 0.2560 - val_accuracy: 1.0000 - val_loss: 0.1508\n",
            "Epoch 38/80\n",
            "\u001b[1m6/6\u001b[0m \u001b[32m━━━━━━━━━━━━━━━━━━━━\u001b[0m\u001b[37m\u001b[0m \u001b[1m0s\u001b[0m 12ms/step - accuracy: 0.9705 - loss: 0.2380 - val_accuracy: 0.9583 - val_loss: 0.1658\n",
            "Epoch 39/80\n",
            "\u001b[1m6/6\u001b[0m \u001b[32m━━━━━━━━━━━━━━━━━━━━\u001b[0m\u001b[37m\u001b[0m \u001b[1m0s\u001b[0m 11ms/step - accuracy: 0.9232 - loss: 0.2297 - val_accuracy: 0.9583 - val_loss: 0.1664\n",
            "Epoch 40/80\n",
            "\u001b[1m6/6\u001b[0m \u001b[32m━━━━━━━━━━━━━━━━━━━━\u001b[0m\u001b[37m\u001b[0m \u001b[1m0s\u001b[0m 10ms/step - accuracy: 0.9537 - loss: 0.2169 - val_accuracy: 1.0000 - val_loss: 0.1499\n",
            "Epoch 41/80\n",
            "\u001b[1m6/6\u001b[0m \u001b[32m━━━━━━━━━━━━━━━━━━━━\u001b[0m\u001b[37m\u001b[0m \u001b[1m0s\u001b[0m 8ms/step - accuracy: 0.9313 - loss: 0.2408 - val_accuracy: 1.0000 - val_loss: 0.1490\n",
            "Epoch 42/80\n",
            "\u001b[1m6/6\u001b[0m \u001b[32m━━━━━━━━━━━━━━━━━━━━\u001b[0m\u001b[37m\u001b[0m \u001b[1m0s\u001b[0m 8ms/step - accuracy: 0.9022 - loss: 0.2061 - val_accuracy: 1.0000 - val_loss: 0.1298\n",
            "Epoch 43/80\n",
            "\u001b[1m6/6\u001b[0m \u001b[32m━━━━━━━━━━━━━━━━━━━━\u001b[0m\u001b[37m\u001b[0m \u001b[1m0s\u001b[0m 13ms/step - accuracy: 0.9057 - loss: 0.2619 - val_accuracy: 0.9583 - val_loss: 0.1594\n",
            "Epoch 44/80\n",
            "\u001b[1m6/6\u001b[0m \u001b[32m━━━━━━━━━━━━━━━━━━━━\u001b[0m\u001b[37m\u001b[0m \u001b[1m0s\u001b[0m 11ms/step - accuracy: 0.9141 - loss: 0.2237 - val_accuracy: 0.9583 - val_loss: 0.1437\n",
            "Epoch 45/80\n",
            "\u001b[1m6/6\u001b[0m \u001b[32m━━━━━━━━━━━━━━━━━━━━\u001b[0m\u001b[37m\u001b[0m \u001b[1m0s\u001b[0m 8ms/step - accuracy: 0.9009 - loss: 0.2359 - val_accuracy: 1.0000 - val_loss: 0.1228\n",
            "Epoch 46/80\n",
            "\u001b[1m6/6\u001b[0m \u001b[32m━━━━━━━━━━━━━━━━━━━━\u001b[0m\u001b[37m\u001b[0m \u001b[1m0s\u001b[0m 11ms/step - accuracy: 0.9171 - loss: 0.2510 - val_accuracy: 0.9583 - val_loss: 0.1311\n",
            "Epoch 47/80\n",
            "\u001b[1m6/6\u001b[0m \u001b[32m━━━━━━━━━━━━━━━━━━━━\u001b[0m\u001b[37m\u001b[0m \u001b[1m0s\u001b[0m 11ms/step - accuracy: 0.9452 - loss: 0.1693 - val_accuracy: 0.9583 - val_loss: 0.1387\n",
            "Epoch 48/80\n",
            "\u001b[1m6/6\u001b[0m \u001b[32m━━━━━━━━━━━━━━━━━━━━\u001b[0m\u001b[37m\u001b[0m \u001b[1m0s\u001b[0m 12ms/step - accuracy: 0.9415 - loss: 0.1707 - val_accuracy: 0.9583 - val_loss: 0.1179\n",
            "Epoch 49/80\n",
            "\u001b[1m6/6\u001b[0m \u001b[32m━━━━━━━━━━━━━━━━━━━━\u001b[0m\u001b[37m\u001b[0m \u001b[1m0s\u001b[0m 12ms/step - accuracy: 0.9467 - loss: 0.2009 - val_accuracy: 1.0000 - val_loss: 0.0829\n",
            "Epoch 50/80\n",
            "\u001b[1m6/6\u001b[0m \u001b[32m━━━━━━━━━━━━━━━━━━━━\u001b[0m\u001b[37m\u001b[0m \u001b[1m0s\u001b[0m 12ms/step - accuracy: 0.8482 - loss: 0.2808 - val_accuracy: 1.0000 - val_loss: 0.0945\n",
            "Epoch 51/80\n",
            "\u001b[1m6/6\u001b[0m \u001b[32m━━━━━━━━━━━━━━━━━━━━\u001b[0m\u001b[37m\u001b[0m \u001b[1m0s\u001b[0m 10ms/step - accuracy: 0.9019 - loss: 0.2237 - val_accuracy: 0.9583 - val_loss: 0.1137\n",
            "Epoch 52/80\n",
            "\u001b[1m6/6\u001b[0m \u001b[32m━━━━━━━━━━━━━━━━━━━━\u001b[0m\u001b[37m\u001b[0m \u001b[1m0s\u001b[0m 12ms/step - accuracy: 0.9698 - loss: 0.1420 - val_accuracy: 0.9583 - val_loss: 0.1154\n",
            "Epoch 53/80\n",
            "\u001b[1m6/6\u001b[0m \u001b[32m━━━━━━━━━━━━━━━━━━━━\u001b[0m\u001b[37m\u001b[0m \u001b[1m0s\u001b[0m 8ms/step - accuracy: 0.8771 - loss: 0.2204 - val_accuracy: 0.9583 - val_loss: 0.1187\n",
            "Epoch 54/80\n",
            "\u001b[1m6/6\u001b[0m \u001b[32m━━━━━━━━━━━━━━━━━━━━\u001b[0m\u001b[37m\u001b[0m \u001b[1m0s\u001b[0m 9ms/step - accuracy: 0.9405 - loss: 0.1787 - val_accuracy: 1.0000 - val_loss: 0.0988\n",
            "Epoch 55/80\n",
            "\u001b[1m6/6\u001b[0m \u001b[32m━━━━━━━━━━━━━━━━━━━━\u001b[0m\u001b[37m\u001b[0m \u001b[1m0s\u001b[0m 12ms/step - accuracy: 0.9493 - loss: 0.1697 - val_accuracy: 1.0000 - val_loss: 0.0914\n",
            "Epoch 56/80\n",
            "\u001b[1m6/6\u001b[0m \u001b[32m━━━━━━━━━━━━━━━━━━━━\u001b[0m\u001b[37m\u001b[0m \u001b[1m0s\u001b[0m 8ms/step - accuracy: 0.9442 - loss: 0.1728 - val_accuracy: 1.0000 - val_loss: 0.0848\n",
            "Epoch 57/80\n",
            "\u001b[1m6/6\u001b[0m \u001b[32m━━━━━━━━━━━━━━━━━━━━\u001b[0m\u001b[37m\u001b[0m \u001b[1m0s\u001b[0m 10ms/step - accuracy: 0.9286 - loss: 0.2002 - val_accuracy: 0.9583 - val_loss: 0.1122\n",
            "Epoch 58/80\n",
            "\u001b[1m6/6\u001b[0m \u001b[32m━━━━━━━━━━━━━━━━━━━━\u001b[0m\u001b[37m\u001b[0m \u001b[1m0s\u001b[0m 8ms/step - accuracy: 0.8897 - loss: 0.1907 - val_accuracy: 1.0000 - val_loss: 0.0864\n",
            "Epoch 59/80\n",
            "\u001b[1m6/6\u001b[0m \u001b[32m━━━━━━━━━━━━━━━━━━━━\u001b[0m\u001b[37m\u001b[0m \u001b[1m0s\u001b[0m 8ms/step - accuracy: 0.9911 - loss: 0.1409 - val_accuracy: 1.0000 - val_loss: 0.0817\n",
            "Epoch 60/80\n",
            "\u001b[1m6/6\u001b[0m \u001b[32m━━━━━━━━━━━━━━━━━━━━\u001b[0m\u001b[37m\u001b[0m \u001b[1m0s\u001b[0m 8ms/step - accuracy: 0.9612 - loss: 0.1494 - val_accuracy: 0.9583 - val_loss: 0.1304\n",
            "Epoch 61/80\n",
            "\u001b[1m6/6\u001b[0m \u001b[32m━━━━━━━━━━━━━━━━━━━━\u001b[0m\u001b[37m\u001b[0m \u001b[1m0s\u001b[0m 8ms/step - accuracy: 0.9295 - loss: 0.1708 - val_accuracy: 0.9583 - val_loss: 0.1005\n",
            "Epoch 62/80\n",
            "\u001b[1m6/6\u001b[0m \u001b[32m━━━━━━━━━━━━━━━━━━━━\u001b[0m\u001b[37m\u001b[0m \u001b[1m0s\u001b[0m 8ms/step - accuracy: 0.9353 - loss: 0.1888 - val_accuracy: 0.9583 - val_loss: 0.1031\n",
            "Epoch 63/80\n",
            "\u001b[1m6/6\u001b[0m \u001b[32m━━━━━━━━━━━━━━━━━━━━\u001b[0m\u001b[37m\u001b[0m \u001b[1m0s\u001b[0m 9ms/step - accuracy: 0.9503 - loss: 0.1711 - val_accuracy: 0.9583 - val_loss: 0.0982\n",
            "Epoch 64/80\n",
            "\u001b[1m6/6\u001b[0m \u001b[32m━━━━━━━━━━━━━━━━━━━━\u001b[0m\u001b[37m\u001b[0m \u001b[1m0s\u001b[0m 8ms/step - accuracy: 0.9743 - loss: 0.1701 - val_accuracy: 1.0000 - val_loss: 0.0683\n",
            "Epoch 65/80\n",
            "\u001b[1m6/6\u001b[0m \u001b[32m━━━━━━━━━━━━━━━━━━━━\u001b[0m\u001b[37m\u001b[0m \u001b[1m0s\u001b[0m 11ms/step - accuracy: 0.9312 - loss: 0.1749 - val_accuracy: 0.9583 - val_loss: 0.1043\n",
            "Epoch 66/80\n",
            "\u001b[1m6/6\u001b[0m \u001b[32m━━━━━━━━━━━━━━━━━━━━\u001b[0m\u001b[37m\u001b[0m \u001b[1m0s\u001b[0m 12ms/step - accuracy: 0.8915 - loss: 0.1854 - val_accuracy: 0.9583 - val_loss: 0.0904\n",
            "Epoch 67/80\n",
            "\u001b[1m6/6\u001b[0m \u001b[32m━━━━━━━━━━━━━━━━━━━━\u001b[0m\u001b[37m\u001b[0m \u001b[1m0s\u001b[0m 8ms/step - accuracy: 0.9649 - loss: 0.1727 - val_accuracy: 1.0000 - val_loss: 0.0739\n",
            "Epoch 68/80\n",
            "\u001b[1m6/6\u001b[0m \u001b[32m━━━━━━━━━━━━━━━━━━━━\u001b[0m\u001b[37m\u001b[0m \u001b[1m0s\u001b[0m 13ms/step - accuracy: 0.9214 - loss: 0.2092 - val_accuracy: 0.9583 - val_loss: 0.1011\n",
            "Epoch 69/80\n",
            "\u001b[1m6/6\u001b[0m \u001b[32m━━━━━━━━━━━━━━━━━━━━\u001b[0m\u001b[37m\u001b[0m \u001b[1m0s\u001b[0m 9ms/step - accuracy: 0.9857 - loss: 0.0833 - val_accuracy: 1.0000 - val_loss: 0.0595\n",
            "Epoch 70/80\n",
            "\u001b[1m6/6\u001b[0m \u001b[32m━━━━━━━━━━━━━━━━━━━━\u001b[0m\u001b[37m\u001b[0m \u001b[1m0s\u001b[0m 8ms/step - accuracy: 0.9378 - loss: 0.1854 - val_accuracy: 1.0000 - val_loss: 0.0507\n",
            "Epoch 71/80\n",
            "\u001b[1m6/6\u001b[0m \u001b[32m━━━━━━━━━━━━━━━━━━━━\u001b[0m\u001b[37m\u001b[0m \u001b[1m0s\u001b[0m 8ms/step - accuracy: 0.9537 - loss: 0.1496 - val_accuracy: 1.0000 - val_loss: 0.0548\n",
            "Epoch 72/80\n",
            "\u001b[1m6/6\u001b[0m \u001b[32m━━━━━━━━━━━━━━━━━━━━\u001b[0m\u001b[37m\u001b[0m \u001b[1m0s\u001b[0m 9ms/step - accuracy: 0.9356 - loss: 0.1497 - val_accuracy: 0.9583 - val_loss: 0.1008\n",
            "Epoch 73/80\n",
            "\u001b[1m6/6\u001b[0m \u001b[32m━━━━━━━━━━━━━━━━━━━━\u001b[0m\u001b[37m\u001b[0m \u001b[1m0s\u001b[0m 8ms/step - accuracy: 0.9638 - loss: 0.1100 - val_accuracy: 1.0000 - val_loss: 0.0714\n",
            "Epoch 74/80\n",
            "\u001b[1m6/6\u001b[0m \u001b[32m━━━━━━━━━━━━━━━━━━━━\u001b[0m\u001b[37m\u001b[0m \u001b[1m0s\u001b[0m 8ms/step - accuracy: 0.9487 - loss: 0.1540 - val_accuracy: 1.0000 - val_loss: 0.0611\n",
            "Epoch 75/80\n",
            "\u001b[1m6/6\u001b[0m \u001b[32m━━━━━━━━━━━━━━━━━━━━\u001b[0m\u001b[37m\u001b[0m \u001b[1m0s\u001b[0m 9ms/step - accuracy: 0.9731 - loss: 0.1225 - val_accuracy: 1.0000 - val_loss: 0.0641\n",
            "Epoch 76/80\n",
            "\u001b[1m6/6\u001b[0m \u001b[32m━━━━━━━━━━━━━━━━━━━━\u001b[0m\u001b[37m\u001b[0m \u001b[1m0s\u001b[0m 9ms/step - accuracy: 0.9007 - loss: 0.1290 - val_accuracy: 1.0000 - val_loss: 0.0606\n",
            "Epoch 77/80\n",
            "\u001b[1m6/6\u001b[0m \u001b[32m━━━━━━━━━━━━━━━━━━━━\u001b[0m\u001b[37m\u001b[0m \u001b[1m0s\u001b[0m 9ms/step - accuracy: 0.9360 - loss: 0.1511 - val_accuracy: 1.0000 - val_loss: 0.0715\n",
            "Epoch 78/80\n",
            "\u001b[1m6/6\u001b[0m \u001b[32m━━━━━━━━━━━━━━━━━━━━\u001b[0m\u001b[37m\u001b[0m \u001b[1m0s\u001b[0m 13ms/step - accuracy: 0.9427 - loss: 0.1187 - val_accuracy: 0.9583 - val_loss: 0.0796\n",
            "Epoch 79/80\n",
            "\u001b[1m6/6\u001b[0m \u001b[32m━━━━━━━━━━━━━━━━━━━━\u001b[0m\u001b[37m\u001b[0m \u001b[1m0s\u001b[0m 7ms/step - accuracy: 0.9140 - loss: 0.1789 - val_accuracy: 0.9583 - val_loss: 0.0765\n",
            "Epoch 80/80\n",
            "\u001b[1m6/6\u001b[0m \u001b[32m━━━━━━━━━━━━━━━━━━━━\u001b[0m\u001b[37m\u001b[0m \u001b[1m0s\u001b[0m 8ms/step - accuracy: 0.9711 - loss: 0.1313 - val_accuracy: 1.0000 - val_loss: 0.0438\n",
            "\u001b[1m1/1\u001b[0m \u001b[32m━━━━━━━━━━━━━━━━━━━━\u001b[0m\u001b[37m\u001b[0m \u001b[1m0s\u001b[0m 25ms/step - accuracy: 1.0000 - loss: 0.0702\n"
          ]
        },
        {
          "output_type": "execute_result",
          "data": {
            "text/plain": [
              "[0.0701713040471077, 1.0]"
            ]
          },
          "metadata": {},
          "execution_count": 11
        }
      ]
    },
    {
      "cell_type": "markdown",
      "source": [
        "d. Fashion-MNIST: Clothing Item Classification (10 classes)\n"
      ],
      "metadata": {
        "id": "Ksu1G-ucRCir"
      }
    },
    {
      "cell_type": "code",
      "source": [
        "# Load and prepare the Fashion-MNIST dataset\n",
        "(x_train, y_train), (x_test, y_test) = fashion_mnist.load_data()\n",
        "x_train, x_test = x_train / 255.0, x_test / 255.0  # Normalize pixel values\n",
        "y_train = to_categorical(y_train, 10)\n",
        "y_test = to_categorical(y_test, 10)\n",
        "\n",
        "# Build and train the model\n",
        "model = build_model((28, 28), 10)\n",
        "history = model.fit(x_train, y_train, epochs=15, batch_size=32, validation_split=0.2)\n",
        "model.evaluate(x_test, y_test)\n"
      ],
      "metadata": {
        "colab": {
          "base_uri": "https://localhost:8080/"
        },
        "id": "Pnz-EnRoQ-su",
        "outputId": "a572346d-cb4b-49e8-d0a0-1b77532428e4"
      },
      "execution_count": 12,
      "outputs": [
        {
          "output_type": "stream",
          "name": "stdout",
          "text": [
            "Downloading data from https://storage.googleapis.com/tensorflow/tf-keras-datasets/train-labels-idx1-ubyte.gz\n",
            "\u001b[1m29515/29515\u001b[0m \u001b[32m━━━━━━━━━━━━━━━━━━━━\u001b[0m\u001b[37m\u001b[0m \u001b[1m0s\u001b[0m 0us/step\n",
            "Downloading data from https://storage.googleapis.com/tensorflow/tf-keras-datasets/train-images-idx3-ubyte.gz\n",
            "\u001b[1m26421880/26421880\u001b[0m \u001b[32m━━━━━━━━━━━━━━━━━━━━\u001b[0m\u001b[37m\u001b[0m \u001b[1m0s\u001b[0m 0us/step\n",
            "Downloading data from https://storage.googleapis.com/tensorflow/tf-keras-datasets/t10k-labels-idx1-ubyte.gz\n",
            "\u001b[1m5148/5148\u001b[0m \u001b[32m━━━━━━━━━━━━━━━━━━━━\u001b[0m\u001b[37m\u001b[0m \u001b[1m0s\u001b[0m 0us/step\n",
            "Downloading data from https://storage.googleapis.com/tensorflow/tf-keras-datasets/t10k-images-idx3-ubyte.gz\n",
            "\u001b[1m4422102/4422102\u001b[0m \u001b[32m━━━━━━━━━━━━━━━━━━━━\u001b[0m\u001b[37m\u001b[0m \u001b[1m0s\u001b[0m 0us/step\n",
            "Epoch 1/15\n",
            "\u001b[1m1500/1500\u001b[0m \u001b[32m━━━━━━━━━━━━━━━━━━━━\u001b[0m\u001b[37m\u001b[0m \u001b[1m9s\u001b[0m 5ms/step - accuracy: 0.6881 - loss: 0.8837 - val_accuracy: 0.8376 - val_loss: 0.4403\n",
            "Epoch 2/15\n",
            "\u001b[1m1500/1500\u001b[0m \u001b[32m━━━━━━━━━━━━━━━━━━━━\u001b[0m\u001b[37m\u001b[0m \u001b[1m6s\u001b[0m 4ms/step - accuracy: 0.8168 - loss: 0.5048 - val_accuracy: 0.8528 - val_loss: 0.3933\n",
            "Epoch 3/15\n",
            "\u001b[1m1500/1500\u001b[0m \u001b[32m━━━━━━━━━━━━━━━━━━━━\u001b[0m\u001b[37m\u001b[0m \u001b[1m7s\u001b[0m 5ms/step - accuracy: 0.8320 - loss: 0.4615 - val_accuracy: 0.8567 - val_loss: 0.4080\n",
            "Epoch 4/15\n",
            "\u001b[1m1500/1500\u001b[0m \u001b[32m━━━━━━━━━━━━━━━━━━━━\u001b[0m\u001b[37m\u001b[0m \u001b[1m6s\u001b[0m 4ms/step - accuracy: 0.8389 - loss: 0.4411 - val_accuracy: 0.8610 - val_loss: 0.3701\n",
            "Epoch 5/15\n",
            "\u001b[1m1500/1500\u001b[0m \u001b[32m━━━━━━━━━━━━━━━━━━━━\u001b[0m\u001b[37m\u001b[0m \u001b[1m8s\u001b[0m 5ms/step - accuracy: 0.8432 - loss: 0.4241 - val_accuracy: 0.8655 - val_loss: 0.3665\n",
            "Epoch 6/15\n",
            "\u001b[1m1500/1500\u001b[0m \u001b[32m━━━━━━━━━━━━━━━━━━━━\u001b[0m\u001b[37m\u001b[0m \u001b[1m6s\u001b[0m 4ms/step - accuracy: 0.8476 - loss: 0.4106 - val_accuracy: 0.8672 - val_loss: 0.3646\n",
            "Epoch 7/15\n",
            "\u001b[1m1500/1500\u001b[0m \u001b[32m━━━━━━━━━━━━━━━━━━━━\u001b[0m\u001b[37m\u001b[0m \u001b[1m10s\u001b[0m 4ms/step - accuracy: 0.8549 - loss: 0.3929 - val_accuracy: 0.8638 - val_loss: 0.3595\n",
            "Epoch 8/15\n",
            "\u001b[1m1500/1500\u001b[0m \u001b[32m━━━━━━━━━━━━━━━━━━━━\u001b[0m\u001b[37m\u001b[0m \u001b[1m7s\u001b[0m 5ms/step - accuracy: 0.8538 - loss: 0.3935 - val_accuracy: 0.8732 - val_loss: 0.3450\n",
            "Epoch 9/15\n",
            "\u001b[1m1500/1500\u001b[0m \u001b[32m━━━━━━━━━━━━━━━━━━━━\u001b[0m\u001b[37m\u001b[0m \u001b[1m6s\u001b[0m 4ms/step - accuracy: 0.8627 - loss: 0.3748 - val_accuracy: 0.8692 - val_loss: 0.3564\n",
            "Epoch 10/15\n",
            "\u001b[1m1500/1500\u001b[0m \u001b[32m━━━━━━━━━━━━━━━━━━━━\u001b[0m\u001b[37m\u001b[0m \u001b[1m8s\u001b[0m 5ms/step - accuracy: 0.8571 - loss: 0.3870 - val_accuracy: 0.8763 - val_loss: 0.3368\n",
            "Epoch 11/15\n",
            "\u001b[1m1500/1500\u001b[0m \u001b[32m━━━━━━━━━━━━━━━━━━━━\u001b[0m\u001b[37m\u001b[0m \u001b[1m9s\u001b[0m 5ms/step - accuracy: 0.8661 - loss: 0.3669 - val_accuracy: 0.8740 - val_loss: 0.3428\n",
            "Epoch 12/15\n",
            "\u001b[1m1500/1500\u001b[0m \u001b[32m━━━━━━━━━━━━━━━━━━━━\u001b[0m\u001b[37m\u001b[0m \u001b[1m10s\u001b[0m 4ms/step - accuracy: 0.8665 - loss: 0.3644 - val_accuracy: 0.8770 - val_loss: 0.3339\n",
            "Epoch 13/15\n",
            "\u001b[1m1500/1500\u001b[0m \u001b[32m━━━━━━━━━━━━━━━━━━━━\u001b[0m\u001b[37m\u001b[0m \u001b[1m8s\u001b[0m 5ms/step - accuracy: 0.8687 - loss: 0.3581 - val_accuracy: 0.8816 - val_loss: 0.3302\n",
            "Epoch 14/15\n",
            "\u001b[1m1500/1500\u001b[0m \u001b[32m━━━━━━━━━━━━━━━━━━━━\u001b[0m\u001b[37m\u001b[0m \u001b[1m6s\u001b[0m 4ms/step - accuracy: 0.8711 - loss: 0.3551 - val_accuracy: 0.8784 - val_loss: 0.3310\n",
            "Epoch 15/15\n",
            "\u001b[1m1500/1500\u001b[0m \u001b[32m━━━━━━━━━━━━━━━━━━━━\u001b[0m\u001b[37m\u001b[0m \u001b[1m8s\u001b[0m 5ms/step - accuracy: 0.8681 - loss: 0.3559 - val_accuracy: 0.8808 - val_loss: 0.3278\n",
            "\u001b[1m313/313\u001b[0m \u001b[32m━━━━━━━━━━━━━━━━━━━━\u001b[0m\u001b[37m\u001b[0m \u001b[1m1s\u001b[0m 2ms/step - accuracy: 0.8717 - loss: 0.3532\n"
          ]
        },
        {
          "output_type": "execute_result",
          "data": {
            "text/plain": [
              "[0.35748499631881714, 0.8686000108718872]"
            ]
          },
          "metadata": {},
          "execution_count": 12
        }
      ]
    },
    {
      "cell_type": "markdown",
      "source": [
        "e. Reuters Newswire: Text Categorization (46 classes)"
      ],
      "metadata": {
        "id": "KiH4U8USRI22"
      }
    },
    {
      "cell_type": "code",
      "source": [
        "from tensorflow.keras.datasets import reuters\n",
        "\n",
        "# Load and prepare the Reuters dataset\n",
        "(x_train, y_train), (x_test, y_test) = reuters.load_data(num_words=10000)\n",
        "tokenizer = Tokenizer(num_words=10000)\n",
        "x_train = tokenizer.sequences_to_matrix(x_train, mode='binary')\n",
        "x_test = tokenizer.sequences_to_matrix(x_test, mode='binary')\n",
        "y_train = to_categorical(y_train, 46)\n",
        "y_test = to_categorical(y_test, 46)\n",
        "\n",
        "# Build and train the model\n",
        "model = build_model((10000,), 46)\n",
        "history = model.fit(x_train, y_train, epochs=15, batch_size=30, validation_split=0.2)\n",
        "model.evaluate(x_test, y_test)\n"
      ],
      "metadata": {
        "colab": {
          "base_uri": "https://localhost:8080/"
        },
        "id": "jPcaKksBRDIp",
        "outputId": "ccf3fe4c-e977-41d6-f08c-2ff1fbf9ee86"
      },
      "execution_count": 13,
      "outputs": [
        {
          "output_type": "stream",
          "name": "stdout",
          "text": [
            "Downloading data from https://storage.googleapis.com/tensorflow/tf-keras-datasets/reuters.npz\n",
            "\u001b[1m2110848/2110848\u001b[0m \u001b[32m━━━━━━━━━━━━━━━━━━━━\u001b[0m\u001b[37m\u001b[0m \u001b[1m0s\u001b[0m 0us/step\n",
            "Epoch 1/15\n",
            "\u001b[1m240/240\u001b[0m \u001b[32m━━━━━━━━━━━━━━━━━━━━\u001b[0m\u001b[37m\u001b[0m \u001b[1m7s\u001b[0m 21ms/step - accuracy: 0.5337 - loss: 2.1469 - val_accuracy: 0.7540 - val_loss: 1.0831\n",
            "Epoch 2/15\n",
            "\u001b[1m240/240\u001b[0m \u001b[32m━━━━━━━━━━━━━━━━━━━━\u001b[0m\u001b[37m\u001b[0m \u001b[1m4s\u001b[0m 18ms/step - accuracy: 0.7916 - loss: 0.9039 - val_accuracy: 0.7974 - val_loss: 0.9128\n",
            "Epoch 3/15\n",
            "\u001b[1m240/240\u001b[0m \u001b[32m━━━━━━━━━━━━━━━━━━━━\u001b[0m\u001b[37m\u001b[0m \u001b[1m6s\u001b[0m 24ms/step - accuracy: 0.8651 - loss: 0.5844 - val_accuracy: 0.8114 - val_loss: 0.8597\n",
            "Epoch 4/15\n",
            "\u001b[1m240/240\u001b[0m \u001b[32m━━━━━━━━━━━━━━━━━━━━\u001b[0m\u001b[37m\u001b[0m \u001b[1m4s\u001b[0m 18ms/step - accuracy: 0.9101 - loss: 0.3666 - val_accuracy: 0.8141 - val_loss: 0.8656\n",
            "Epoch 5/15\n",
            "\u001b[1m240/240\u001b[0m \u001b[32m━━━━━━━━━━━━━━━━━━━━\u001b[0m\u001b[37m\u001b[0m \u001b[1m5s\u001b[0m 18ms/step - accuracy: 0.9348 - loss: 0.2759 - val_accuracy: 0.8108 - val_loss: 0.9190\n",
            "Epoch 6/15\n",
            "\u001b[1m240/240\u001b[0m \u001b[32m━━━━━━━━━━━━━━━━━━━━\u001b[0m\u001b[37m\u001b[0m \u001b[1m6s\u001b[0m 23ms/step - accuracy: 0.9472 - loss: 0.2157 - val_accuracy: 0.8114 - val_loss: 0.9832\n",
            "Epoch 7/15\n",
            "\u001b[1m240/240\u001b[0m \u001b[32m━━━━━━━━━━━━━━━━━━━━\u001b[0m\u001b[37m\u001b[0m \u001b[1m10s\u001b[0m 20ms/step - accuracy: 0.9510 - loss: 0.2034 - val_accuracy: 0.8058 - val_loss: 1.0203\n",
            "Epoch 8/15\n",
            "\u001b[1m240/240\u001b[0m \u001b[32m━━━━━━━━━━━━━━━━━━━━\u001b[0m\u001b[37m\u001b[0m \u001b[1m5s\u001b[0m 22ms/step - accuracy: 0.9543 - loss: 0.1613 - val_accuracy: 0.8075 - val_loss: 1.0708\n",
            "Epoch 9/15\n",
            "\u001b[1m240/240\u001b[0m \u001b[32m━━━━━━━━━━━━━━━━━━━━\u001b[0m\u001b[37m\u001b[0m \u001b[1m4s\u001b[0m 18ms/step - accuracy: 0.9549 - loss: 0.1656 - val_accuracy: 0.8080 - val_loss: 1.1038\n",
            "Epoch 10/15\n",
            "\u001b[1m240/240\u001b[0m \u001b[32m━━━━━━━━━━━━━━━━━━━━\u001b[0m\u001b[37m\u001b[0m \u001b[1m5s\u001b[0m 22ms/step - accuracy: 0.9585 - loss: 0.1570 - val_accuracy: 0.8114 - val_loss: 1.0773\n",
            "Epoch 11/15\n",
            "\u001b[1m240/240\u001b[0m \u001b[32m━━━━━━━━━━━━━━━━━━━━\u001b[0m\u001b[37m\u001b[0m \u001b[1m9s\u001b[0m 18ms/step - accuracy: 0.9602 - loss: 0.1522 - val_accuracy: 0.8097 - val_loss: 1.1291\n",
            "Epoch 12/15\n",
            "\u001b[1m240/240\u001b[0m \u001b[32m━━━━━━━━━━━━━━━━━━━━\u001b[0m\u001b[37m\u001b[0m \u001b[1m5s\u001b[0m 23ms/step - accuracy: 0.9603 - loss: 0.1435 - val_accuracy: 0.8102 - val_loss: 1.1680\n",
            "Epoch 13/15\n",
            "\u001b[1m240/240\u001b[0m \u001b[32m━━━━━━━━━━━━━━━━━━━━\u001b[0m\u001b[37m\u001b[0m \u001b[1m9s\u001b[0m 18ms/step - accuracy: 0.9666 - loss: 0.1119 - val_accuracy: 0.8086 - val_loss: 1.1467\n",
            "Epoch 14/15\n",
            "\u001b[1m240/240\u001b[0m \u001b[32m━━━━━━━━━━━━━━━━━━━━\u001b[0m\u001b[37m\u001b[0m \u001b[1m6s\u001b[0m 22ms/step - accuracy: 0.9637 - loss: 0.1250 - val_accuracy: 0.8136 - val_loss: 1.1335\n",
            "Epoch 15/15\n",
            "\u001b[1m240/240\u001b[0m \u001b[32m━━━━━━━━━━━━━━━━━━━━\u001b[0m\u001b[37m\u001b[0m \u001b[1m4s\u001b[0m 18ms/step - accuracy: 0.9634 - loss: 0.1220 - val_accuracy: 0.8080 - val_loss: 1.1403\n",
            "\u001b[1m71/71\u001b[0m \u001b[32m━━━━━━━━━━━━━━━━━━━━\u001b[0m\u001b[37m\u001b[0m \u001b[1m0s\u001b[0m 4ms/step - accuracy: 0.8112 - loss: 1.2253\n"
          ]
        },
        {
          "output_type": "execute_result",
          "data": {
            "text/plain": [
              "[1.233070731163025, 0.8027604818344116]"
            ]
          },
          "metadata": {},
          "execution_count": 13
        }
      ]
    },
    {
      "cell_type": "markdown",
      "source": [
        "4. Evaluation"
      ],
      "metadata": {
        "id": "NZh0JVoPRqAO"
      }
    },
    {
      "cell_type": "code",
      "source": [
        "def evaluate_model(model, x_test, y_test):\n",
        "    y_pred = model.predict(x_test)\n",
        "    y_pred_classes = np.argmax(y_pred, axis=1)\n",
        "    y_true = np.argmax(y_test, axis=1)\n",
        "\n",
        "    print(\"Test Accuracy:\", model.evaluate(x_test, y_test)[1])\n",
        "    print(\"Classification Report:\\n\", classification_report(y_true, y_pred_classes))\n",
        "    print(\"Confusion Matrix:\\n\", confusion_matrix(y_true, y_pred_classes))\n",
        "\n",
        "# Example: Evaluate the MNIST model\n",
        "evaluate_model(model, x_test, y_test)\n"
      ],
      "metadata": {
        "colab": {
          "base_uri": "https://localhost:8080/"
        },
        "id": "JvXB9lCLRgO1",
        "outputId": "332c36a3-3446-434f-f811-84f0eb8ea591"
      },
      "execution_count": 14,
      "outputs": [
        {
          "output_type": "stream",
          "name": "stdout",
          "text": [
            "\u001b[1m71/71\u001b[0m \u001b[32m━━━━━━━━━━━━━━━━━━━━\u001b[0m\u001b[37m\u001b[0m \u001b[1m1s\u001b[0m 6ms/step\n",
            "\u001b[1m71/71\u001b[0m \u001b[32m━━━━━━━━━━━━━━━━━━━━\u001b[0m\u001b[37m\u001b[0m \u001b[1m0s\u001b[0m 4ms/step - accuracy: 0.8112 - loss: 1.2253\n",
            "Test Accuracy: 0.8027604818344116\n",
            "Classification Report:\n",
            "               precision    recall  f1-score   support\n",
            "\n",
            "           0       0.75      0.75      0.75        12\n",
            "           1       0.77      0.78      0.77       105\n",
            "           2       0.60      0.60      0.60        20\n",
            "           3       0.92      0.93      0.92       813\n",
            "           4       0.79      0.89      0.84       474\n",
            "           5       1.00      0.20      0.33         5\n",
            "           6       0.90      0.64      0.75        14\n",
            "           7       0.50      0.33      0.40         3\n",
            "           8       0.71      0.71      0.71        38\n",
            "           9       0.86      0.76      0.81        25\n",
            "          10       0.93      0.90      0.92        30\n",
            "          11       0.65      0.77      0.70        83\n",
            "          12       0.50      0.23      0.32        13\n",
            "          13       0.54      0.73      0.62        37\n",
            "          14       0.00      0.00      0.00         2\n",
            "          15       0.33      0.11      0.17         9\n",
            "          16       0.69      0.71      0.70        99\n",
            "          17       0.78      0.58      0.67        12\n",
            "          18       0.68      0.65      0.67        20\n",
            "          19       0.71      0.71      0.71       133\n",
            "          20       0.63      0.60      0.61        70\n",
            "          21       0.70      0.78      0.74        27\n",
            "          22       0.00      0.00      0.00         7\n",
            "          23       0.62      0.42      0.50        12\n",
            "          24       0.62      0.42      0.50        19\n",
            "          25       0.82      0.58      0.68        31\n",
            "          26       1.00      0.62      0.77         8\n",
            "          27       1.00      0.25      0.40         4\n",
            "          28       0.36      0.40      0.38        10\n",
            "          29       0.50      0.75      0.60         4\n",
            "          30       0.75      0.50      0.60        12\n",
            "          31       0.88      0.54      0.67        13\n",
            "          32       0.80      0.80      0.80        10\n",
            "          33       0.80      0.80      0.80         5\n",
            "          34       1.00      0.43      0.60         7\n",
            "          35       1.00      0.50      0.67         6\n",
            "          36       0.67      0.36      0.47        11\n",
            "          37       0.00      0.00      0.00         2\n",
            "          38       0.67      0.67      0.67         3\n",
            "          39       0.00      0.00      0.00         5\n",
            "          40       1.00      0.30      0.46        10\n",
            "          41       0.43      0.38      0.40         8\n",
            "          42       1.00      0.67      0.80         3\n",
            "          43       0.83      0.83      0.83         6\n",
            "          44       1.00      0.80      0.89         5\n",
            "          45       1.00      1.00      1.00         1\n",
            "\n",
            "    accuracy                           0.80      2246\n",
            "   macro avg       0.69      0.55      0.59      2246\n",
            "weighted avg       0.80      0.80      0.80      2246\n",
            "\n",
            "Confusion Matrix:\n",
            " [[ 9  1  0 ...  0  0  0]\n",
            " [ 0 82  1 ...  0  0  0]\n",
            " [ 0  1 12 ...  0  0  0]\n",
            " ...\n",
            " [ 0  0  0 ...  5  0  0]\n",
            " [ 0  0  0 ...  0  4  0]\n",
            " [ 0  0  0 ...  0  0  1]]\n"
          ]
        },
        {
          "output_type": "stream",
          "name": "stderr",
          "text": [
            "/usr/local/lib/python3.10/dist-packages/sklearn/metrics/_classification.py:1471: UndefinedMetricWarning: Precision and F-score are ill-defined and being set to 0.0 in labels with no predicted samples. Use `zero_division` parameter to control this behavior.\n",
            "  _warn_prf(average, modifier, msg_start, len(result))\n",
            "/usr/local/lib/python3.10/dist-packages/sklearn/metrics/_classification.py:1471: UndefinedMetricWarning: Precision and F-score are ill-defined and being set to 0.0 in labels with no predicted samples. Use `zero_division` parameter to control this behavior.\n",
            "  _warn_prf(average, modifier, msg_start, len(result))\n",
            "/usr/local/lib/python3.10/dist-packages/sklearn/metrics/_classification.py:1471: UndefinedMetricWarning: Precision and F-score are ill-defined and being set to 0.0 in labels with no predicted samples. Use `zero_division` parameter to control this behavior.\n",
            "  _warn_prf(average, modifier, msg_start, len(result))\n"
          ]
        }
      ]
    },
    {
      "cell_type": "code",
      "source": [
        "import matplotlib.pyplot as plt\n",
        "\n",
        "def plot_training_history(history):\n",
        "    # Plot training & validation accuracy values\n",
        "    plt.figure(figsize=(12, 4))\n",
        "\n",
        "    plt.subplot(1, 2, 1)\n",
        "    plt.plot(history.history['accuracy'])\n",
        "    plt.plot(history.history['val_accuracy'])\n",
        "    plt.title('Model Accuracy')\n",
        "    plt.ylabel('Accuracy')\n",
        "    plt.xlabel('Epoch')\n",
        "    plt.legend(['Train', 'Validation'], loc='upper left')\n",
        "\n",
        "    # Plot training & validation loss values\n",
        "    plt.subplot(1, 2, 2)\n",
        "    plt.plot(history.history['loss'])\n",
        "    plt.plot(history.history['val_loss'])\n",
        "    plt.title('Model Loss')\n",
        "    plt.ylabel('Loss')\n",
        "    plt.xlabel('Epoch')\n",
        "    plt.legend(['Train', 'Validation'], loc='upper left')\n",
        "\n",
        "    plt.show()\n",
        "\n",
        "# Example: Plot training history for MNIST model\n",
        "plot_training_history(history)\n"
      ],
      "metadata": {
        "colab": {
          "base_uri": "https://localhost:8080/",
          "height": 410
        },
        "id": "aVkQfTpoSQD4",
        "outputId": "a4e79531-62de-4a6c-b71b-d740071f72ec"
      },
      "execution_count": 15,
      "outputs": [
        {
          "output_type": "display_data",
          "data": {
            "text/plain": [
              "<Figure size 1200x400 with 2 Axes>"
            ],
            "image/png": "[encoded data removed]"
          },
          "metadata": {}
        }
      ]
    },
    {
      "cell_type": "code",
      "source": [],
      "metadata": {
        "id": "KeqiTwFJSgsU"
      },
      "execution_count": null,
      "outputs": []
    }
  ]
}